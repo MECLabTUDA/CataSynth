{
 "cells": [
  {
   "cell_type": "code",
   "execution_count": null,
   "outputs": [],
   "source": [
    "import matplotlib.pyplot as plt\n",
    "import numpy as np\n",
    "import torch.nn.functional as F\n",
    "\n",
    "from lib.utils.factory import get_CATARACTS_data"
   ],
   "metadata": {
    "collapsed": false
   }
  },
  {
   "cell_type": "code",
   "execution_count": null,
   "outputs": [],
   "source": [
    "class Args:\n",
    "    data_path = '/media/yannik/samsung_data_ssd_2/CATARACTS-videos-processed/'\n",
    "\n",
    "args = Args()\n",
    "\n",
    "data_conf = {\n",
    "    'CROP_DIM': None,\n",
    "    'SHAPE': '(3, 128, 128)',\n",
    "    'NORM': '(.5, .5)',\n",
    "    'RANDOM_BRIGHTNESS_CONTRAST': True,\n",
    "    'RANDOM_H_FLIP': True,\n",
    "    'PHASE_WEIGHTED_SAMPLING': True,\n",
    "    'TOOL_WEIGHTED_SAMPLING': False,\n",
    "    'FOLD': -1,\n",
    "    'FRAME_STEP': 5,\n",
    "    'N_SEQ_FRAMES': 5,\n",
    "    'OVERLAPPING_CHUNKS': False,\n",
    "    'REMOVE_IDLE': False  # Removes idle frame from training datset (only when using weighted sampling)\n",
    "}\n",
    "train_conf = {\n",
    "    'BATCH_SIZE': 8,\n",
    "    'NUM_WORKERS': 1,\n",
    "    'VAL_SAMPLES': 8\n",
    "}\n",
    "train_ds, train_dl, val_ds, val_dl = get_CATARACTS_data(args, data_conf, train_conf)\n",
    "\n",
    "ds = val_ds"
   ],
   "metadata": {
    "collapsed": false
   }
  },
  {
   "cell_type": "code",
   "execution_count": null,
   "outputs": [],
   "source": [
    "print(str(len(train_ds)) + \" train samples\")\n",
    "print(str(len(val_ds)) + \" val samples\")"
   ],
   "metadata": {
    "collapsed": false
   }
  },
  {
   "cell_type": "code",
   "execution_count": null,
   "outputs": [],
   "source": [
    "ds[0][0].shape"
   ],
   "metadata": {
    "collapsed": false
   }
  },
  {
   "cell_type": "code",
   "execution_count": null,
   "outputs": [],
   "source": [
    "SHAPE = (1080, 1920)\n",
    "\n",
    "fig, ax = plt.subplots(nrows=train_conf['VAL_SAMPLES'], ncols=data_conf['N_SEQ_FRAMES'], figsize=(data_conf['N_SEQ_FRAMES']*5, train_conf['VAL_SAMPLES']*5))\n",
    "img, name, file_name, phase_label, tool_label = next(iter(train_dl))\n",
    "N, T, C, H, W = img.shape\n",
    "for n in range(N):\n",
    "    for t in range(T):\n",
    "        phase_label_name = ds.phase_label_names[phase_label[n, t].item()]\n",
    "        tool_label_names = np.array(ds.tool_label_names).squeeze()[tool_label[n, t].numpy() > 0]\n",
    "        _img = F.interpolate(img[n, t].unsqueeze(0), size=SHAPE)\n",
    "        ax[n, t].imshow(.5 + .5*_img.squeeze(0).permute(1, 2, 0))\n",
    "        ax[n, t].axis('off')\n",
    "        ax[n, t].set_title(f'{file_name[n][t]}\\n{phase_label_name}\\n{tool_label_names}')\n",
    "plt.show()"
   ],
   "metadata": {
    "collapsed": false
   }
  },
  {
   "cell_type": "code",
   "execution_count": null,
   "outputs": [],
   "source": [],
   "metadata": {
    "collapsed": false
   }
  }
 ],
 "metadata": {
  "kernelspec": {
   "display_name": "Python 3",
   "language": "python",
   "name": "python3"
  },
  "language_info": {
   "codemirror_mode": {
    "name": "ipython",
    "version": 2
   },
   "file_extension": ".py",
   "mimetype": "text/x-python",
   "name": "python",
   "nbconvert_exporter": "python",
   "pygments_lexer": "ipython2",
   "version": "2.7.6"
  }
 },
 "nbformat": 4,
 "nbformat_minor": 0
}
