{
 "cells": [
  {
   "cell_type": "code",
   "execution_count": 1,
   "metadata": {
    "collapsed": true
   },
   "outputs": [],
   "source": [
    "import os\n",
    "\n",
    "import torch\n",
    "from torch.utils.data import DataLoader\n",
    "from tqdm import tqdm\n",
    "from PIL import Image\n",
    "\n",
    "from lib.dataset.cataracts_dataset import CATARACTSDataset\n",
    "from lib.utils.misc import label_vectors_to_names"
   ]
  },
  {
   "cell_type": "code",
   "execution_count": 2,
   "outputs": [
    {
     "name": "stdout",
     "output_type": "stream",
     "text": [
      "Avail. GPUs:  1\n"
     ]
    }
   ],
   "source": [
    "DATA_PATH = '/media/yannik/samsung_data_ssd/data/CATARACTS-videos-processed/'\n",
    "TARGET_PATH = \"results/real_qual_samples/\"\n",
    "DEV = 'cuda'\n",
    "os.makedirs(TARGET_PATH, exist_ok=True)\n",
    "BATCH_SIZE = 1\n",
    "STEPS = 1  # 30000//BATCH_SIZE\n",
    "TARGET_SHAPE = (3, 270, 480)\n",
    "print(f\"Avail. GPUs: \", torch.cuda.device_count())"
   ],
   "metadata": {
    "collapsed": false
   }
  },
  {
   "cell_type": "code",
   "execution_count": 7,
   "outputs": [
    {
     "name": "stdout",
     "output_type": "stream",
     "text": [
      "18017 test samples\n"
     ]
    }
   ],
   "source": [
    "test_ds = CATARACTSDataset(\n",
    "    root=DATA_PATH,\n",
    "    resize_shape=TARGET_SHAPE[1:],\n",
    "    normalize=None,\n",
    "    mode='val',  # 'test' / 'train\n",
    "    frame_step=3,\n",
    "    sample_img=True\n",
    ")\n",
    "# TODO: Weighted sampling / sampling from p(toolset|phase)\n",
    "test_dl = DataLoader(test_ds, batch_size=BATCH_SIZE, num_workers=8,\n",
    "                     drop_last=True, shuffle=True, pin_memory=False)\n",
    "print(f\"{len(test_ds)} test samples\")"
   ],
   "metadata": {
    "collapsed": false
   }
  },
  {
   "cell_type": "markdown",
   "source": [
    "## Saving real samples for qual. comparison"
   ],
   "metadata": {
    "collapsed": false
   }
  },
  {
   "cell_type": "code",
   "execution_count": 9,
   "outputs": [
    {
     "name": "stderr",
     "output_type": "stream",
     "text": [
      "100%|██████████| 18017/18017 [09:58<00:00, 30.09it/s]\n"
     ]
    }
   ],
   "source": [
    "for i, (img, _, file_name, phase_label, tool_label) in enumerate(tqdm(test_dl)):\n",
    "\n",
    "    phase, toolset = label_vectors_to_names(test_ds, phase_label[0], tool_label[0])\n",
    "    phase = phase.replace(\"/\", \" \")\n",
    "    toolset = [tool.replace(\"/\", \" \") for tool in toolset]\n",
    "\n",
    "    img = (img * 255.).type(torch.uint8).squeeze(0)\n",
    "    img = img.permute(1, 2, 0).cpu().numpy()\n",
    "\n",
    "    im = Image.fromarray(img)\n",
    "    im.save(os.path.join(TARGET_PATH + f\"{phase}_{toolset}_sample{i}.png\"))"
   ],
   "metadata": {
    "collapsed": false
   }
  },
  {
   "cell_type": "code",
   "execution_count": null,
   "outputs": [],
   "source": [],
   "metadata": {
    "collapsed": false
   }
  }
 ],
 "metadata": {
  "kernelspec": {
   "display_name": "Python 3",
   "language": "python",
   "name": "python3"
  },
  "language_info": {
   "codemirror_mode": {
    "name": "ipython",
    "version": 2
   },
   "file_extension": ".py",
   "mimetype": "text/x-python",
   "name": "python",
   "nbconvert_exporter": "python",
   "pygments_lexer": "ipython2",
   "version": "2.7.6"
  }
 },
 "nbformat": 4,
 "nbformat_minor": 0
}
