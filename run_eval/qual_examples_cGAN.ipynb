{
 "cells": [
  {
   "cell_type": "code",
   "execution_count": 1,
   "metadata": {
    "collapsed": true
   },
   "outputs": [],
   "source": [
    "import os\n",
    "\n",
    "import torch\n",
    "import torch.nn.functional as F\n",
    "from torch.utils.data import DataLoader\n",
    "from tqdm import tqdm\n",
    "\n",
    "from lib.model.cgan import Generator\n",
    "from lib.dataset.cataracts_dataset import CATARACTSDataset\n",
    "from lib.utils.pre_train import get_configs"
   ]
  },
  {
   "cell_type": "code",
   "execution_count": 2,
   "outputs": [
    {
     "name": "stdout",
     "output_type": "stream",
     "text": [
      "Avail. GPUs:  1\n"
     ]
    }
   ],
   "source": [
    "DATA_PATH = '/media/yannik/samsung_data_ssd/data/CATARACTS-videos-processed/'\n",
    "LOG_PATH = 'results/cgan/2023.02.26 20_57_53/'\n",
    "TARGET_PATH = os.path.join(LOG_PATH, \"eval/qual_samples/\")\n",
    "DEV = 'cuda'\n",
    "data_conf, model_conf, diffusion_conf, train_conf = get_configs(LOG_PATH + \"config.yaml\")\n",
    "os.makedirs(TARGET_PATH, exist_ok=True)\n",
    "BATCH_SIZE = 1\n",
    "STEPS = 1  # 30000//BATCH_SIZE\n",
    "TARGET_SHAPE = (3, 270, 480)\n",
    "print(f\"Avail. GPUs: \", torch.cuda.device_count())"
   ],
   "metadata": {
    "collapsed": false
   }
  },
  {
   "cell_type": "code",
   "execution_count": 4,
   "outputs": [
    {
     "name": "stdout",
     "output_type": "stream",
     "text": [
      "35492 test samples\n"
     ]
    }
   ],
   "source": [
    "test_ds = CATARACTSDataset(\n",
    "    root=DATA_PATH,\n",
    "    resize_shape=eval(data_conf['SHAPE'])[1:],\n",
    "    normalize=eval(data_conf['NORM']),\n",
    "    mode='test',\n",
    "    frame_step=data_conf['FRAME_STEP'],\n",
    "    sample_img=False\n",
    ")\n",
    "# TODO: Weighted sampling / sampling from p(toolset|phase)\n",
    "test_dl = DataLoader(test_ds, batch_size=BATCH_SIZE, num_workers=8,\n",
    "                     drop_last=True, shuffle=True, pin_memory=False)\n",
    "print(f\"{len(test_ds)} test samples\")"
   ],
   "metadata": {
    "collapsed": false
   }
  },
  {
   "cell_type": "code",
   "execution_count": 5,
   "outputs": [
    {
     "ename": "RuntimeError",
     "evalue": "Error(s) in loading state_dict for Generator:\n\tMissing key(s) in state_dict: \"latent.1.weight\", \"latent.1.bias\", \"latent.1.running_mean\", \"latent.1.running_var\", \"model.5.weight\", \"model.5.bias\", \"model.5.running_mean\", \"model.5.running_var\", \"model.8.weight\", \"model.9.bias\", \"model.9.running_mean\", \"model.9.running_var\", \"model.13.weight\", \"model.13.bias\", \"model.13.running_mean\", \"model.13.running_var\", \"model.15.weight\". \n\tUnexpected key(s) in state_dict: \"model.3.weight\", \"model.4.bias\", \"model.4.running_mean\", \"model.4.running_var\", \"model.4.num_batches_tracked\", \"model.6.weight\", \"model.7.weight\", \"model.7.bias\", \"model.7.running_mean\", \"model.7.running_var\", \"model.7.num_batches_tracked\", \"model.10.weight\", \"model.10.bias\", \"model.10.running_mean\", \"model.10.running_var\", \"model.10.num_batches_tracked\". \n\tsize mismatch for phase_label_condition_generator.3.weight: copying a param with shape torch.Size([256, 512]) from checkpoint, the shape in current model is torch.Size([1024, 512]).\n\tsize mismatch for phase_label_condition_generator.3.bias: copying a param with shape torch.Size([256]) from checkpoint, the shape in current model is torch.Size([1024]).\n\tsize mismatch for tool_label_condition_generator.2.weight: copying a param with shape torch.Size([256, 512]) from checkpoint, the shape in current model is torch.Size([1024, 512]).\n\tsize mismatch for tool_label_condition_generator.2.bias: copying a param with shape torch.Size([256]) from checkpoint, the shape in current model is torch.Size([1024]).\n\tsize mismatch for latent.0.weight: copying a param with shape torch.Size([8192, 512]) from checkpoint, the shape in current model is torch.Size([16384, 512]).\n\tsize mismatch for latent.0.bias: copying a param with shape torch.Size([8192]) from checkpoint, the shape in current model is torch.Size([16384]).\n\tsize mismatch for model.0.weight: copying a param with shape torch.Size([544, 1024, 4, 4]) from checkpoint, the shape in current model is torch.Size([1152, 1024, 4, 4]).\n\tsize mismatch for model.4.weight: copying a param with shape torch.Size([512]) from checkpoint, the shape in current model is torch.Size([1024, 512, 4, 4]).\n\tsize mismatch for model.9.weight: copying a param with shape torch.Size([256, 128, 4, 4]) from checkpoint, the shape in current model is torch.Size([256]).\n\tsize mismatch for model.12.weight: copying a param with shape torch.Size([128, 3, 4, 4]) from checkpoint, the shape in current model is torch.Size([256, 128, 4, 4]).",
     "output_type": "error",
     "traceback": [
      "\u001B[0;31m---------------------------------------------------------------------------\u001B[0m",
      "\u001B[0;31mRuntimeError\u001B[0m                              Traceback (most recent call last)",
      "Cell \u001B[0;32mIn [5], line 9\u001B[0m\n\u001B[1;32m      1\u001B[0m netG \u001B[38;5;241m=\u001B[39m Generator(\n\u001B[1;32m      2\u001B[0m     label_embedding_dim\u001B[38;5;241m=\u001B[39mmodel_conf[\u001B[38;5;124m'\u001B[39m\u001B[38;5;124mEMBED_DIM\u001B[39m\u001B[38;5;124m'\u001B[39m],\n\u001B[1;32m      3\u001B[0m     latent_dim\u001B[38;5;241m=\u001B[39mmodel_conf[\u001B[38;5;124m'\u001B[39m\u001B[38;5;124mLATENT_DIM\u001B[39m\u001B[38;5;124m'\u001B[39m],\n\u001B[0;32m   (...)\u001B[0m\n\u001B[1;32m      6\u001B[0m     n_tool_dims\u001B[38;5;241m=\u001B[39mtest_ds\u001B[38;5;241m.\u001B[39mnum_tool_classes\n\u001B[1;32m      7\u001B[0m )\u001B[38;5;241m.\u001B[39mto(DEV)\n\u001B[1;32m      8\u001B[0m m \u001B[38;5;241m=\u001B[39m torch\u001B[38;5;241m.\u001B[39mnn\u001B[38;5;241m.\u001B[39mDataParallel(netG, device_ids\u001B[38;5;241m=\u001B[39m[\u001B[38;5;124m'\u001B[39m\u001B[38;5;124mcuda:0\u001B[39m\u001B[38;5;124m'\u001B[39m]) \u001B[38;5;28;01mif\u001B[39;00m \u001B[38;5;129;01mnot\u001B[39;00m DEV \u001B[38;5;241m==\u001B[39m \u001B[38;5;124m'\u001B[39m\u001B[38;5;124mcpu\u001B[39m\u001B[38;5;124m'\u001B[39m \u001B[38;5;28;01melse\u001B[39;00m netG\n\u001B[0;32m----> 9\u001B[0m \u001B[43mnetG\u001B[49m\u001B[38;5;241;43m.\u001B[39;49m\u001B[43mload_state_dict\u001B[49m\u001B[43m(\u001B[49m\u001B[43mtorch\u001B[49m\u001B[38;5;241;43m.\u001B[39;49m\u001B[43mload\u001B[49m\u001B[43m(\u001B[49m\u001B[43mLOG_PATH\u001B[49m\u001B[43m \u001B[49m\u001B[38;5;241;43m+\u001B[39;49m\u001B[43m \u001B[49m\u001B[38;5;124;43m\"\u001B[39;49m\u001B[38;5;124;43mckpt.pth\u001B[39;49m\u001B[38;5;124;43m\"\u001B[39;49m\u001B[43m,\u001B[49m\u001B[43m \u001B[49m\u001B[43mmap_location\u001B[49m\u001B[38;5;241;43m=\u001B[39;49m\u001B[38;5;124;43m'\u001B[39;49m\u001B[38;5;124;43mcpu\u001B[39;49m\u001B[38;5;124;43m'\u001B[39;49m\u001B[43m)\u001B[49m\u001B[43m[\u001B[49m\u001B[38;5;241;43m0\u001B[39;49m\u001B[43m]\u001B[49m\u001B[43m)\u001B[49m\n\u001B[1;32m     10\u001B[0m netG\u001B[38;5;241m.\u001B[39meval()\n",
      "File \u001B[0;32m~/anaconda3/envs/cat_diff/lib/python3.10/site-packages/torch/nn/modules/module.py:1671\u001B[0m, in \u001B[0;36mModule.load_state_dict\u001B[0;34m(self, state_dict, strict)\u001B[0m\n\u001B[1;32m   1666\u001B[0m         error_msgs\u001B[38;5;241m.\u001B[39minsert(\n\u001B[1;32m   1667\u001B[0m             \u001B[38;5;241m0\u001B[39m, \u001B[38;5;124m'\u001B[39m\u001B[38;5;124mMissing key(s) in state_dict: \u001B[39m\u001B[38;5;132;01m{}\u001B[39;00m\u001B[38;5;124m. \u001B[39m\u001B[38;5;124m'\u001B[39m\u001B[38;5;241m.\u001B[39mformat(\n\u001B[1;32m   1668\u001B[0m                 \u001B[38;5;124m'\u001B[39m\u001B[38;5;124m, \u001B[39m\u001B[38;5;124m'\u001B[39m\u001B[38;5;241m.\u001B[39mjoin(\u001B[38;5;124m'\u001B[39m\u001B[38;5;124m\"\u001B[39m\u001B[38;5;132;01m{}\u001B[39;00m\u001B[38;5;124m\"\u001B[39m\u001B[38;5;124m'\u001B[39m\u001B[38;5;241m.\u001B[39mformat(k) \u001B[38;5;28;01mfor\u001B[39;00m k \u001B[38;5;129;01min\u001B[39;00m missing_keys)))\n\u001B[1;32m   1670\u001B[0m \u001B[38;5;28;01mif\u001B[39;00m \u001B[38;5;28mlen\u001B[39m(error_msgs) \u001B[38;5;241m>\u001B[39m \u001B[38;5;241m0\u001B[39m:\n\u001B[0;32m-> 1671\u001B[0m     \u001B[38;5;28;01mraise\u001B[39;00m \u001B[38;5;167;01mRuntimeError\u001B[39;00m(\u001B[38;5;124m'\u001B[39m\u001B[38;5;124mError(s) in loading state_dict for \u001B[39m\u001B[38;5;132;01m{}\u001B[39;00m\u001B[38;5;124m:\u001B[39m\u001B[38;5;130;01m\\n\u001B[39;00m\u001B[38;5;130;01m\\t\u001B[39;00m\u001B[38;5;132;01m{}\u001B[39;00m\u001B[38;5;124m'\u001B[39m\u001B[38;5;241m.\u001B[39mformat(\n\u001B[1;32m   1672\u001B[0m                        \u001B[38;5;28mself\u001B[39m\u001B[38;5;241m.\u001B[39m\u001B[38;5;18m__class__\u001B[39m\u001B[38;5;241m.\u001B[39m\u001B[38;5;18m__name__\u001B[39m, \u001B[38;5;124m\"\u001B[39m\u001B[38;5;130;01m\\n\u001B[39;00m\u001B[38;5;130;01m\\t\u001B[39;00m\u001B[38;5;124m\"\u001B[39m\u001B[38;5;241m.\u001B[39mjoin(error_msgs)))\n\u001B[1;32m   1673\u001B[0m \u001B[38;5;28;01mreturn\u001B[39;00m _IncompatibleKeys(missing_keys, unexpected_keys)\n",
      "\u001B[0;31mRuntimeError\u001B[0m: Error(s) in loading state_dict for Generator:\n\tMissing key(s) in state_dict: \"latent.1.weight\", \"latent.1.bias\", \"latent.1.running_mean\", \"latent.1.running_var\", \"model.5.weight\", \"model.5.bias\", \"model.5.running_mean\", \"model.5.running_var\", \"model.8.weight\", \"model.9.bias\", \"model.9.running_mean\", \"model.9.running_var\", \"model.13.weight\", \"model.13.bias\", \"model.13.running_mean\", \"model.13.running_var\", \"model.15.weight\". \n\tUnexpected key(s) in state_dict: \"model.3.weight\", \"model.4.bias\", \"model.4.running_mean\", \"model.4.running_var\", \"model.4.num_batches_tracked\", \"model.6.weight\", \"model.7.weight\", \"model.7.bias\", \"model.7.running_mean\", \"model.7.running_var\", \"model.7.num_batches_tracked\", \"model.10.weight\", \"model.10.bias\", \"model.10.running_mean\", \"model.10.running_var\", \"model.10.num_batches_tracked\". \n\tsize mismatch for phase_label_condition_generator.3.weight: copying a param with shape torch.Size([256, 512]) from checkpoint, the shape in current model is torch.Size([1024, 512]).\n\tsize mismatch for phase_label_condition_generator.3.bias: copying a param with shape torch.Size([256]) from checkpoint, the shape in current model is torch.Size([1024]).\n\tsize mismatch for tool_label_condition_generator.2.weight: copying a param with shape torch.Size([256, 512]) from checkpoint, the shape in current model is torch.Size([1024, 512]).\n\tsize mismatch for tool_label_condition_generator.2.bias: copying a param with shape torch.Size([256]) from checkpoint, the shape in current model is torch.Size([1024]).\n\tsize mismatch for latent.0.weight: copying a param with shape torch.Size([8192, 512]) from checkpoint, the shape in current model is torch.Size([16384, 512]).\n\tsize mismatch for latent.0.bias: copying a param with shape torch.Size([8192]) from checkpoint, the shape in current model is torch.Size([16384]).\n\tsize mismatch for model.0.weight: copying a param with shape torch.Size([544, 1024, 4, 4]) from checkpoint, the shape in current model is torch.Size([1152, 1024, 4, 4]).\n\tsize mismatch for model.4.weight: copying a param with shape torch.Size([512]) from checkpoint, the shape in current model is torch.Size([1024, 512, 4, 4]).\n\tsize mismatch for model.9.weight: copying a param with shape torch.Size([256, 128, 4, 4]) from checkpoint, the shape in current model is torch.Size([256]).\n\tsize mismatch for model.12.weight: copying a param with shape torch.Size([128, 3, 4, 4]) from checkpoint, the shape in current model is torch.Size([256, 128, 4, 4])."
     ]
    }
   ],
   "source": [
    "netG = Generator(\n",
    "    label_embedding_dim=model_conf['EMBED_DIM'],\n",
    "    latent_dim=model_conf['LATENT_DIM'],\n",
    "    base_hidden_dim=model_conf['BASE_HIDDEN_DIM'],\n",
    "    n_phase_classes=test_ds.num_phases_classes,\n",
    "    n_tool_dims=test_ds.num_tool_classes\n",
    ").to(DEV)\n",
    "m = torch.nn.DataParallel(netG, device_ids=['cuda:0']) if not DEV == 'cpu' else netG\n",
    "netG.load_state_dict(torch.load(LOG_PATH + \"ckpt.pth\", map_location='cpu')[0])\n",
    "netG.eval()"
   ],
   "metadata": {
    "collapsed": false
   }
  },
  {
   "cell_type": "markdown",
   "source": [
    "## Fixed condition"
   ],
   "metadata": {
    "collapsed": false
   }
  },
  {
   "cell_type": "code",
   "execution_count": 9,
   "outputs": [],
   "source": [
    "from PIL import Image\n",
    "import matplotlib.pyplot as plt\n",
    "from lib.utils.misc import label_names_to_vectors"
   ],
   "metadata": {
    "collapsed": false
   }
  },
  {
   "cell_type": "code",
   "execution_count": 10,
   "outputs": [],
   "source": [
    "def sampling(phase_label: torch.Tensor, tool_label: torch.Tensor, steps: int):\n",
    "    for i, (_, _, _, yp, ys) in enumerate(tqdm(test_dl)):\n",
    "        with torch.no_grad():\n",
    "\n",
    "            if i == steps:\n",
    "                break\n",
    "\n",
    "            eval_noise = torch.randn(BATCH_SIZE, model_conf['LATENT_DIM'], device=DEV)\n",
    "\n",
    "            gen_sample = netG(eval_noise, phase_label, tool_label)\n",
    "            N, C, H, W = gen_sample.shape\n",
    "\n",
    "            gen = (gen_sample + 1.) * .5\n",
    "\n",
    "            gen = F.interpolate(gen, size=TARGET_SHAPE[1:], mode='bilinear')\n",
    "            gen = (gen * 255.).type(torch.uint8).squeeze(0)\n",
    "            gen = gen.permute(1, 2, 0).cpu().numpy()\n",
    "\n",
    "            im = Image.fromarray(gen)\n",
    "            im.save(os.path.join(TARGET_PATH + f\"{phase}_{toolset}_sample{i}.png\"))"
   ],
   "metadata": {
    "collapsed": false
   }
  },
  {
   "cell_type": "code",
   "execution_count": 11,
   "outputs": [
    {
     "name": "stderr",
     "output_type": "stream",
     "text": [
      "  0%|          | 10/35492 [00:01<1:10:57,  8.33it/s]\n"
     ]
    }
   ],
   "source": [
    "phase = 'Nucleus Breaking'\n",
    "toolset = ['Phacoemulsifier Handpiece', 'Bonn Forceps']\n",
    "phase_label, tool_label = label_names_to_vectors(phase, toolset, test_ds)\n",
    "phase_label, tool_label = phase_label.long().to(DEV), tool_label.float().to(DEV)\n",
    "sampling(phase_label, tool_label, steps=10)"
   ],
   "metadata": {
    "collapsed": false
   }
  },
  {
   "cell_type": "code",
   "execution_count": 12,
   "outputs": [
    {
     "name": "stderr",
     "output_type": "stream",
     "text": [
      "  0%|          | 10/35492 [00:00<36:19, 16.28it/s] \n"
     ]
    }
   ],
   "source": [
    "phase = 'Implant Ejection'\n",
    "toolset = ['Capsulorhexis Forceps', 'Bonn Forceps']\n",
    "phase_label, tool_label = label_names_to_vectors(phase, toolset, test_ds)\n",
    "phase_label, tool_label = phase_label.long().to(DEV), tool_label.float().to(DEV)\n",
    "sampling(phase_label, tool_label, steps=10)"
   ],
   "metadata": {
    "collapsed": false
   }
  },
  {
   "cell_type": "code",
   "execution_count": 13,
   "outputs": [
    {
     "name": "stderr",
     "output_type": "stream",
     "text": [
      "  0%|          | 10/35492 [00:00<39:26, 14.99it/s] \n"
     ]
    }
   ],
   "source": [
    "phase = 'Suturing'\n",
    "toolset = ['Vannas Scissors', 'Needle Holder']\n",
    "phase_label, tool_label = label_names_to_vectors(phase, toolset, test_ds)\n",
    "phase_label, tool_label = phase_label.long().to(DEV), tool_label.float().to(DEV)\n",
    "sampling(phase_label, tool_label, steps=10)"
   ],
   "metadata": {
    "collapsed": false
   }
  },
  {
   "cell_type": "markdown",
   "source": [
    "## Condition sampled from test-set"
   ],
   "metadata": {
    "collapsed": false
   }
  },
  {
   "cell_type": "code",
   "execution_count": null,
   "outputs": [],
   "source": [
    "from lib.utils.misc import label_vectors_to_names\n",
    "\n",
    "TARGET_PATH = os.path.join(LOG_PATH, \"eval/gen_samples/\")\n",
    "\n",
    "for i, (_, _, file_name, phase_label, tool_label) in enumerate(tqdm(test_dl)):\n",
    "\n",
    "    phase, toolset = label_vectors_to_names(test_ds, phase_label[0], tool_label[0])\n",
    "    phase = phase.replace(\"/\", \" \")\n",
    "    toolset = [tool.replace(\"/\", \" \") for tool in toolset]\n",
    "\n",
    "    phase_label = phase_label.long().to(DEV)\n",
    "    tool_label = tool_label.float().to(DEV)\n",
    "\n",
    "    eval_noise = torch.randn(BATCH_SIZE, model_conf['LATENT_DIM'], device=DEV)\n",
    "\n",
    "    gen_img = netG(eval_noise, phase_label, tool_label)\n",
    "    gen_img = (gen_img + 1.) * .5\n",
    "    gen = F.interpolate(gen_img, size=TARGET_SHAPE[1:], mode='bilinear')\n",
    "    gen_img = (gen_img * 255.).type(torch.uint8).squeeze(0)\n",
    "    gen_img = gen_img.permute(1, 2, 0).cpu().numpy()\n",
    "\n",
    "    gen_img = Image.fromarray(gen_img)\n",
    "    gen_img.save(os.path.join(TARGET_PATH + f\"{phase}_{toolset}_sample{i}.png\"))"
   ],
   "metadata": {
    "collapsed": false
   }
  }
 ],
 "metadata": {
  "kernelspec": {
   "display_name": "Python 3",
   "language": "python",
   "name": "python3"
  },
  "language_info": {
   "codemirror_mode": {
    "name": "ipython",
    "version": 2
   },
   "file_extension": ".py",
   "mimetype": "text/x-python",
   "name": "python",
   "nbconvert_exporter": "python",
   "pygments_lexer": "ipython2",
   "version": "2.7.6"
  }
 },
 "nbformat": 4,
 "nbformat_minor": 0
}
