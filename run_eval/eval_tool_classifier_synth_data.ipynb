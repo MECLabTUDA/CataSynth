{
 "cells": [
  {
   "cell_type": "markdown",
   "source": [
    "## Imports etc."
   ],
   "metadata": {
    "collapsed": false
   }
  },
  {
   "cell_type": "code",
   "execution_count": null,
   "outputs": [],
   "source": [
    "import os\n",
    "\n",
    "import timm\n",
    "import torch\n",
    "from torch.utils.data import DataLoader\n",
    "from tqdm import tqdm\n",
    "\n",
    "from lib.utils.pre_train import get_configs\n",
    "from lib.utils.misc import WrappedModel\n",
    "from lib.dataset.synthetic_dataset import SyntheticCATARACTSDataset"
   ],
   "metadata": {
    "collapsed": false
   }
  },
  {
   "cell_type": "markdown",
   "source": [
    "## Load configs"
   ],
   "metadata": {
    "collapsed": false
   }
  },
  {
   "cell_type": "code",
   "execution_count": null,
   "outputs": [],
   "source": [
    "# DATA_PATH = '/home/yannik/CataractsConditionalDiffusion/results/ddim_gen_samples/'\n",
    "# DATA_PATH = '/home/yannik/CataractsConditionalDiffusion/results/cgan_gen_samples/'\n",
    "DATA_PATH = '/home/yannik/CataractsConditionalDiffusion/results/vqvae2_gen_samples/'\n",
    "LOG_PATH = 'results/tool_classifier_resnet50/2023.02.28 07_50_36/'\n",
    "TARGET_PATH = os.path.join(LOG_PATH, \"eval/\")\n",
    "DEV = 'cuda'\n",
    "data_conf, model_conf, diffusion_conf, train_conf = get_configs(LOG_PATH + \"config.yaml\")\n",
    "os.makedirs(TARGET_PATH, exist_ok=True)\n",
    "STEPS = 1\n",
    "BATCH_SIZE = 64\n",
    "print(f\"Avail. GPUs: \", torch.cuda.device_count())"
   ],
   "metadata": {
    "collapsed": false
   }
  },
  {
   "cell_type": "markdown",
   "source": [
    "## Load data"
   ],
   "metadata": {
    "collapsed": false
   }
  },
  {
   "cell_type": "code",
   "execution_count": null,
   "outputs": [],
   "source": [
    "test_ds = SyntheticCATARACTSDataset(\n",
    "    root=DATA_PATH,\n",
    "    resize_shape=eval(data_conf['SHAPE'])[1:],\n",
    "    normalize=eval(data_conf['NORM']),\n",
    ")\n",
    "\n",
    "# TODO: Weighted sampling / sampling from p(toolset|phase)\n",
    "dl = DataLoader(test_ds, batch_size=BATCH_SIZE, num_workers=8, drop_last=True, shuffle=True, pin_memory=False)\n",
    "print(f\"{len(test_ds)} samples\")"
   ],
   "metadata": {
    "collapsed": false
   }
  },
  {
   "cell_type": "markdown",
   "source": [
    "## Load model"
   ],
   "metadata": {
    "collapsed": false
   }
  },
  {
   "cell_type": "code",
   "execution_count": null,
   "outputs": [],
   "source": [
    "match model_conf['TYPE'].upper():\n",
    "    case 'INCEPTIONV4':\n",
    "        m = timm.create_model('inception_v4',\n",
    "                              pretrained=True,\n",
    "                              num_classes=test_ds.dataset.num_tool_classes).to(DEV)\n",
    "    case 'RESNET18':\n",
    "        m = timm.create_model('resnet18',\n",
    "                              pretrained=True,\n",
    "                              num_classes=test_ds.dataset.num_tool_classes).to(DEV)\n",
    "    case 'RESNET50':\n",
    "        m = timm.create_model('resnet50',\n",
    "                              pretrained=True,\n",
    "                              num_classes=test_ds.dataset.num_tool_classes).to(DEV)\n",
    "    case _:\n",
    "        raise NotImplementedError\n",
    "m = torch.nn.DataParallel(m, device_ids=[DEV]) if not DEV == 'cpu' else WrappedModel(m)\n",
    "try:\n",
    "    m.load_state_dict(torch.load(LOG_PATH + \"ckpt.pth\", map_location='cpu')[0])\n",
    "except:\n",
    "    m.module.load_state_dict(torch.load(LOG_PATH + \"ckpt.pth\", map_location='cpu')[0])\n",
    "m.eval()"
   ],
   "metadata": {
    "collapsed": false
   }
  },
  {
   "cell_type": "code",
   "execution_count": null,
   "outputs": [],
   "source": [
    "import gc\n",
    "\n",
    "import torch\n",
    "from torchmetrics.functional import f1_score, auroc, accuracy\n",
    "\n",
    "from lib.utils.misc import label_vectors_to_names\n",
    "\n",
    "gc.collect()\n",
    "torch.cuda.empty_cache()"
   ],
   "metadata": {
    "collapsed": false
   }
  },
  {
   "cell_type": "markdown",
   "source": [
    "## Test performance"
   ],
   "metadata": {
    "collapsed": false
   }
  },
  {
   "cell_type": "code",
   "execution_count": null,
   "outputs": [],
   "source": [
    "test_targets = None\n",
    "test_predictions = None\n",
    "\n",
    "test_phase_wise_targets = [None] * test_ds.num_phases_classes\n",
    "test_phase_wise_predictions = [None] * test_ds.num_phases_classes\n",
    "tool_count, no_tool_count = [0] * test_ds.num_phases_classes, [0]*test_ds.num_phases_classes\n",
    "\n",
    "with torch.no_grad():\n",
    "    for i, (img, _, file_name, phase_label, tool_label) in enumerate(tqdm(dl)):\n",
    "\n",
    "        phase_label = phase_label.int()\n",
    "\n",
    "        img, tool_label = img.to(DEV), tool_label.to(DEV)\n",
    "\n",
    "        pred = torch.sigmoid(m(img))\n",
    "\n",
    "        \"\"\"\n",
    "        for n in range(BATCH_SIZE):\n",
    "            # TODO: pred to int by thresholding\n",
    "            pred_n_int = (pred[n] > .5).int()\n",
    "            print(\"Prediction: \", label_vectors_to_names(test_ds, None, pred_n_int)[1])\n",
    "            print(\"Target: \", label_vectors_to_names(test_ds, None, tool_label[n])[1])\n",
    "            print()\n",
    "        \"\"\"\n",
    "\n",
    "        test_targets = tool_label if test_targets is None else torch.cat([test_targets, tool_label], dim=0)\n",
    "        test_predictions = pred if test_predictions is None else torch.cat([test_predictions, pred], dim=0)\n",
    "\n",
    "        for n in range(BATCH_SIZE):\n",
    "            phase_id_n = phase_label[n].item()\n",
    "            if (tool_label[n] == 0.).all():\n",
    "                no_tool_count[phase_id_n] += 1\n",
    "            else:\n",
    "                tool_count[phase_id_n] += 1\n",
    "            test_phase_wise_targets[phase_id_n] = tool_label[n] if test_phase_wise_targets[phase_id_n] is None \\\n",
    "                else torch.cat([test_phase_wise_targets[phase_id_n], tool_label[n]], dim=0)\n",
    "            test_phase_wise_predictions[phase_id_n] = pred[n] if test_phase_wise_predictions[phase_id_n] is None \\\n",
    "                else torch.cat([test_phase_wise_predictions[phase_id_n], pred[n]], dim=0)\n",
    "\n",
    "print(\"F1 Score: \", f1_score(test_predictions, test_targets, task='binary', threshold=0.5))\n",
    "print(\"AUROC: \", auroc(test_predictions, test_targets, task='binary'))\n",
    "print(\"Accuray: \", accuracy(test_predictions, test_targets, task='binary', threshold=0.5))"
   ],
   "metadata": {
    "collapsed": false
   }
  },
  {
   "cell_type": "markdown",
   "source": [
    "## Plotting"
   ],
   "metadata": {
    "collapsed": false
   }
  },
  {
   "cell_type": "code",
   "execution_count": null,
   "outputs": [],
   "source": [
    "import matplotlib.pyplot as plt\n",
    "import numpy as np\n",
    "f1_score_per_phase = [0]*len(test_ds.phase_label_names)\n",
    "auroc_per_phase = [0]*len(test_ds.phase_label_names)\n",
    "acc_per_phase = [0]*len(test_ds.phase_label_names)\n",
    "plt.figure(figsize=(30, 5))\n",
    "for phase_id, phase_name in enumerate(test_ds.phase_label_names):\n",
    "    print(f\"########## ---------- {phase_name}\")\n",
    "\n",
    "    preds = test_phase_wise_predictions[phase_id]\n",
    "    targs = test_phase_wise_targets[phase_id].int()\n",
    "    #preds = val_phase_wise_predictions[phase_id]\n",
    "    #targs = val_phase_wise_targets[phase_id]\n",
    "\n",
    "    f1 = f1_score(preds, targs).item()\n",
    "    aur = auroc(preds, targs, task='binary').item()\n",
    "    acc = accuracy(preds, targs).item()\n",
    "    print(\"F1 Score: \", f1)\n",
    "    print(\"AUROC: \", aur)\n",
    "    print(\"Accuray: \", acc)\n",
    "    f1_score_per_phase[phase_id] = f1\n",
    "    auroc_per_phase[phase_id] = aur\n",
    "    acc_per_phase[phase_id] = acc\n",
    "#plt.bar(x=test_ds.phase_label_names, width=0.3, height=f1_score_per_phase, label='F1')\n",
    "#plt.bar(x=test_ds.phase_label_names, width=0.3, height=auroc_per_phase, label='AUROC')\n",
    "#plt.bar(x=test_ds.phase_label_names, width=0.3, height=acc_per_phase, label='F1')\n",
    "plt.bar(x=np.arange(0, test_ds.num_phases_classes) - .2, width=0.2, height=f1_score_per_phase, label='F1')\n",
    "#plt.bar(x=np.arange(0, test_ds.num_phases_classes) , width=0.2, height=auroc_per_phase, label='AUROC')\n",
    "#plt.bar(x=np.arange(0, test_ds.num_phases_classes) + .2, width=0.2, height=acc_per_phase, label='Acc.')\n",
    "plt.legend()\n",
    "plt.xticks(ticks=np.arange(0, test_ds.num_phases_classes), labels=test_ds.phase_label_names, rotation = 45)\n",
    "plt.autoscale()\n",
    "# plt.savefig('plots/val_set_phase_wise_performance.svg', format='svg', bbox_inches='tight')\n",
    "# plt.savefig('plots/test_set_phase_wise_performance.svg', format='svg', bbox_inches='tight')\n",
    "plt.show()"
   ],
   "metadata": {
    "collapsed": false
   }
  },
  {
   "cell_type": "code",
   "execution_count": null,
   "outputs": [],
   "source": [
    "plt.figure(figsize=(30, 5))\n",
    "plt.bar(x=np.arange(0, test_ds.num_phases_classes), width=0.2, height=tool_count, label='tools present')\n",
    "plt.bar(x=np.arange(0, test_ds.num_phases_classes) + .2, width=0.2, height=no_tool_count, label='no tools')\n",
    "plt.legend()\n",
    "plt.xticks(ticks=np.arange(0, test_ds.num_phases_classes), labels=test_ds.phase_label_names, rotation = 45)\n",
    "plt.autoscale()\n",
    "plt.show()"
   ],
   "metadata": {
    "collapsed": false
   }
  },
  {
   "cell_type": "code",
   "execution_count": null,
   "outputs": [],
   "source": [],
   "metadata": {
    "collapsed": false
   }
  }
 ],
 "metadata": {
  "kernelspec": {
   "display_name": "Python 3",
   "language": "python",
   "name": "python3"
  },
  "language_info": {
   "codemirror_mode": {
    "name": "ipython",
    "version": 2
   },
   "file_extension": ".py",
   "mimetype": "text/x-python",
   "name": "python",
   "nbconvert_exporter": "python",
   "pygments_lexer": "ipython2",
   "version": "2.7.6"
  }
 },
 "nbformat": 4,
 "nbformat_minor": 0
}
